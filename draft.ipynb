{
 "cells": [
  {
   "cell_type": "code",
   "execution_count": 20,
   "metadata": {
    "scrolled": false
   },
   "outputs": [
    {
     "name": "stdout",
     "output_type": "stream",
     "text": [
      "Requirement already satisfied: bs4 in /usr/local/lib/python3.7/site-packages (0.0.1)\n",
      "Requirement already satisfied: beautifulsoup4 in /usr/local/lib/python3.7/site-packages (from bs4) (4.9.1)\n",
      "Requirement already satisfied: soupsieve>1.2 in /usr/local/lib/python3.7/site-packages (from beautifulsoup4->bs4) (2.0.1)\n",
      "\u001b[33mWARNING: You are using pip version 20.1; however, version 20.1.1 is available.\n",
      "You should consider upgrading via the '/usr/local/bin/python -m pip install --upgrade pip' command.\u001b[0m\n"
     ]
    }
   ],
   "source": [
    "!pip3 install bs4\n",
    "\n",
    "home_page = \"https://stackexchange.com/?pagesize=50\"\n",
    "import requests\n",
    "import json\n",
    "from bs4 import BeautifulSoup\n",
    "import logging\n",
    "import datetime\n",
    "import dateparser"
   ]
  },
  {
   "cell_type": "code",
   "execution_count": null,
   "metadata": {},
   "outputs": [],
   "source": [
    "with open(\"sent.json\",\"w\") as file:\n",
    "    json.dump([(\"https://www.imdb.com/title/tt0390384\",\"Primer\",\"16 January 2004\")], file) "
   ]
  },
  {
   "cell_type": "code",
   "execution_count": 151,
   "metadata": {},
   "outputs": [
    {
     "name": "stdout",
     "output_type": "stream",
     "text": [
      " draft.ipynb  'se parsing.ipynb'   se-server.py\r\n",
      " nohup.out     se-parser.py\t   sent.json\r\n"
     ]
    }
   ],
   "source": [
    "!ls"
   ]
  },
  {
   "cell_type": "code",
   "execution_count": 154,
   "metadata": {},
   "outputs": [
    {
     "name": "stderr",
     "output_type": "stream",
     "text": [
      "/home/hwlcrd/mounted/pets/bot factory/se-best/se_parser.py:70: GuessedAtParserWarning: No parser was explicitly specified, so I'm using the best available HTML parser for this system (\"lxml\"). This usually isn't a problem, but if you run this code on another system, or in a different virtual environment, it may use a different parser and behave differently.\n",
      "\n",
      "The code that caused this warning is on line 70 of the file /home/hwlcrd/mounted/pets/bot factory/se-best/se_parser.py. To get rid of this warning, pass the additional argument 'features=\"lxml\"' to the BeautifulSoup constructor.\n",
      "\n",
      "  soup = BeautifulSoup(page)\n"
     ]
    },
    {
     "name": "stdout",
     "output_type": "stream",
     "text": [
      "[['https://www.imdb.com/title/tt0390384', 'Primer', '16 January 2004'], ['https://academia.stackexchange.com/questions/149759/is-relocating-necessary-in-academia', 'Is Relocating Necessary in Academia?', '2020-05-29 02:56:01Z'], ['https://codegolf.stackexchange.com/questions/205422/zero-the-byte-eventually', 'Zero the byte (eventually)', '2020-05-30 00:48:05Z'], ('https://money.stackexchange.com/questions/125998/how-can-a-client-pay-me-for-freelance-work-if-i-dont-want-him-to-know-my-name-a', \"How can a client pay me for freelance work if I don't want him to know my name and he is uncomfortable using bitcoin?\", '2020-05-28 20:49:09Z')]\n",
      "Q: How can a client pay me for freelance work if I don't want him to know my name and he is uncomfortable using bitcoin?\n",
      "\n",
      "\n",
      "I've been contacted on a specialized Internet forum and offered a well-paid one-off job to translate a highly specialized text, and I'm happy to accept the offer, but there's a problem: I have always posted on that forum under an anonymous nickname and absolutely don't want my real name to get exposed there. I'm a reputable professional in real life, but sometimes made intentionally controversial...\n",
      "\n",
      "Sandra, 2020-05-28 20:49:09Z\n",
      "\n"
     ]
    },
    {
     "name": "stderr",
     "output_type": "stream",
     "text": [
      "/home/hwlcrd/mounted/pets/bot factory/se-best/se_parser.py:47: GuessedAtParserWarning: No parser was explicitly specified, so I'm using the best available HTML parser for this system (\"lxml\"). This usually isn't a problem, but if you run this code on another system, or in a different virtual environment, it may use a different parser and behave differently.\n",
      "\n",
      "The code that caused this warning is on line 47 of the file /home/hwlcrd/mounted/pets/bot factory/se-best/se_parser.py. To get rid of this warning, pass the additional argument 'features=\"lxml\"' to the BeautifulSoup constructor.\n",
      "\n",
      "  soup = BeautifulSoup(page)\n"
     ]
    }
   ],
   "source": [
    "import se_parser\n",
    "\n",
    "print(se_parser.workflow())"
   ]
  },
  {
   "cell_type": "code",
   "execution_count": 146,
   "metadata": {},
   "outputs": [],
   "source": [
    "def workflow():\n",
    "    track = tracker()\n",
    "    track.load()\n",
    "    posts = post_getter()\n",
    "    for post in posts:\n",
    "        # check post for being previously sent\n",
    "        if track.check_post(post):\n",
    "            # download post\n",
    "            payload = gather_post(post)\n",
    "            track.save_post(payload)\n",
    "            track.save()\n",
    "            print(f\"{track.data}\")\n",
    "            return generate_text(payload)"
   ]
  },
  {
   "cell_type": "code",
   "execution_count": 143,
   "metadata": {},
   "outputs": [],
   "source": [
    "def generate_text(payload):\n",
    "    # output {url, title, date, question, username}\n",
    "    return f\"\"\"Q: {payload['title']}\n",
    "\n",
    "{payload['question']}\n",
    "\n",
    "{payload['username']}, {payload['date']}\n",
    "\"\"\""
   ]
  },
  {
   "cell_type": "code",
   "execution_count": 144,
   "metadata": {},
   "outputs": [],
   "source": [
    "def post_getter():\n",
    "    # Download stack exchange hot page\n",
    "    home_page = \"https://stackexchange.com/?pagesize=50\"\n",
    "    page = requests.get(home_page).text\n",
    "    soup = BeautifulSoup(page)\n",
    "    # Parse page\n",
    "    new = soup.find_all(\"a\",class_='question-link')\n",
    "    # Extract posts and return data\n",
    "    posts = [elem[\"href\"] for elem in new]\n",
    "    return posts"
   ]
  },
  {
   "cell_type": "code",
   "execution_count": 145,
   "metadata": {},
   "outputs": [],
   "source": [
    "def gather_post(url):\n",
    "    # download post\n",
    "    # output {url, title, date, question, username}\n",
    "    page = requests.get(url).text\n",
    "    soup = BeautifulSoup(page)\n",
    "    title = soup.find(\"a\",class_='question-hyperlink').get_text()\n",
    "    #answer = soup.find(\"div\",class_='question').get_text().split(\"share\")[0]\n",
    "    question = soup.find(\"div\",class_='postcell post-layout--right').find(\"div\",\"post-text\").get_text() #.findAll(\"div\")#.get_text()\n",
    "    username = soup.find(\"div\",class_='user-details', itemprop=\"author\").get_text().strip(\"\\n\").split(\"\\n\")[0]\n",
    "    date = soup.find(\"span\", class_='relativetime')['title']\n",
    "    return {\n",
    "        \"title\":title,\n",
    "        \"question\":clear_text(question),\n",
    "        \"url\":url,\n",
    "        \"username\":username,\n",
    "        \"date\":date\n",
    "    }\n",
    "\n",
    "def clear_text(text):\n",
    "    if len(text) > 400:\n",
    "        return text[:400] + \"...\"\n",
    "    return text\n",
    "    \n",
    "    "
   ]
  },
  {
   "cell_type": "code",
   "execution_count": 142,
   "metadata": {},
   "outputs": [],
   "source": [
    "class tracker:\n",
    "    def __init__(self):\n",
    "        self.data_file = \"sent.json\"\n",
    "        self.data = []\n",
    "        self.week = datetime.timedelta(days=7)\n",
    "    \n",
    "    def load(self):\n",
    "        # load data if not loaded\n",
    "        # data format list of (url, title, date)\n",
    "        if not self.data:\n",
    "            with open(self.data_file,\"r\") as file:\n",
    "                self.data = json.load(file)\n",
    "                \n",
    "    def save(self):\n",
    "        # load data if not loaded\n",
    "        # data format list of (url, title, date)\n",
    "        with open(self.data_file,\"w\") as file:\n",
    "            json.dump(self.data, file)\n",
    "    \n",
    "    def check_post(self, url):\n",
    "        for post in self.data:\n",
    "            if post[0]==url:\n",
    "                return False\n",
    "        return True\n",
    "    \n",
    "    def ttl(self):\n",
    "        now = datetime.datetime.now()\n",
    "        self.data = list(filter(lambda x: now-dateparser.parse(x[2]) < self.week, self.data))\n",
    "        \n",
    "    \n",
    "    def save_post(self, post):\n",
    "        self.data.append((post['url'],post['title'],post['date']))"
   ]
  },
  {
   "cell_type": "code",
   "execution_count": 108,
   "metadata": {},
   "outputs": [],
   "source": [
    "# testing tracker\n"
   ]
  },
  {
   "cell_type": "code",
   "execution_count": 109,
   "metadata": {},
   "outputs": [
    {
     "data": {
      "text/plain": [
       "[['https://www.imdb.com/title/tt0390384', 'Primer', '16 January 2004']]"
      ]
     },
     "execution_count": 109,
     "metadata": {},
     "output_type": "execute_result"
    }
   ],
   "source": [
    "track.data\n"
   ]
  },
  {
   "cell_type": "code",
   "execution_count": 111,
   "metadata": {},
   "outputs": [
    {
     "name": "stdout",
     "output_type": "stream",
     "text": [
      "1: \n",
      "2: [['https://www.imdb.com/title/tt0390384', 'Primer', '16 January 2004']]\n",
      "3: False\n",
      "4: True\n",
      "5 ttl: []\n"
     ]
    }
   ],
   "source": [
    "track = tracker()\n",
    "print(f\"1: {track.data}\")\n",
    "track.load()\n",
    "print(f\"2: {track.data}\")\n",
    "print(f\"3: {track.check_post('https://www.imdb.com/title/tt0390384')}\")\n",
    "print(f\"4: {track.check_post('https://www.google.com')}\")\n",
    "track.ttl()\n",
    "print(f\"5 ttl: {track.data}\")\n",
    "track.save()"
   ]
  },
  {
   "cell_type": "code",
   "execution_count": null,
   "metadata": {},
   "outputs": [],
   "source": []
  },
  {
   "cell_type": "code",
   "execution_count": 27,
   "metadata": {},
   "outputs": [
    {
     "data": {
      "text/plain": [
       "datetime.timedelta(days=7)"
      ]
     },
     "execution_count": 27,
     "metadata": {},
     "output_type": "execute_result"
    }
   ],
   "source": [
    "datetime.timedelta(days=7)"
   ]
  },
  {
   "cell_type": "code",
   "execution_count": 30,
   "metadata": {},
   "outputs": [
    {
     "data": {
      "text/plain": [
       "datetime.timedelta(days=5994, seconds=44645, microseconds=268353)"
      ]
     },
     "execution_count": 30,
     "metadata": {},
     "output_type": "execute_result"
    }
   ],
   "source": [
    "datetime.datetime.now()-dateparser.parse(\"1 January 2004\")"
   ]
  },
  {
   "cell_type": "code",
   "execution_count": null,
   "metadata": {},
   "outputs": [],
   "source": [
    "list(filter(lambda x: x%2, [1,2,3]))"
   ]
  },
  {
   "cell_type": "code",
   "execution_count": null,
   "metadata": {},
   "outputs": [],
   "source": [
    "# (url, title, date)"
   ]
  },
  {
   "cell_type": "code",
   "execution_count": 112,
   "metadata": {},
   "outputs": [],
   "source": []
  },
  {
   "cell_type": "code",
   "execution_count": 14,
   "metadata": {},
   "outputs": [],
   "source": [
    "import json"
   ]
  },
  {
   "cell_type": "code",
   "execution_count": 15,
   "metadata": {},
   "outputs": [
    {
     "data": {
      "text/plain": [
       "'[[1, 2, 3]]'"
      ]
     },
     "execution_count": 15,
     "metadata": {},
     "output_type": "execute_result"
    }
   ],
   "source": [
    "json.dumps([(1,2,3)])"
   ]
  },
  {
   "cell_type": "code",
   "execution_count": 10,
   "metadata": {},
   "outputs": [],
   "source": [
    "def post_getter():\n",
    "    # Download stack exchange hot page\n",
    "    home_page = \"https://stackexchange.com/?pagesize=50\"\n",
    "    page = requests.get(home_page).text\n",
    "    soup = BeautifulSoup(page)\n",
    "    # Parse page\n",
    "    new = soup.find_all(\"a\",class_='question-link')\n",
    "    # Extract posts and return data\n",
    "    posts = [{\"url\":elem[\"href\"],\n",
    "             \"title\":elem.text.strip(\" \\r\\n\")} for elem in new]\n",
    "    return posts"
   ]
  },
  {
   "cell_type": "code",
   "execution_count": null,
   "metadata": {},
   "outputs": [],
   "source": [
    "def decider():\n",
    "    "
   ]
  },
  {
   "cell_type": "code",
   "execution_count": 33,
   "metadata": {},
   "outputs": [
    {
     "data": {
      "text/plain": [
       "['https://codegolf.stackexchange.com/questions/205422/zero-the-byte-eventually',\n",
       " 'https://academia.stackexchange.com/questions/149759/is-relocating-necessary-in-academia',\n",
       " 'https://money.stackexchange.com/questions/125998/how-can-a-client-pay-me-for-freelance-work-if-i-dont-want-him-to-know-my-name-a',\n",
       " 'https://worldbuilding.stackexchange.com/questions/177358/how-would-tiny-dragons-strike-terror',\n",
       " 'https://retrocomputing.stackexchange.com/questions/15004/what-languages-are-better-fit-for-generating-efficient-code-for-8-bit-cpus-than',\n",
       " 'https://workplace.stackexchange.com/questions/158641/can-i-get-in-trouble-for-smoking-while-i-was-on-a-video-call-while-i-was-working',\n",
       " 'https://codegolf.stackexchange.com/questions/205425/compute-xkcds-wrong-times-table',\n",
       " 'https://math.stackexchange.com/questions/3697350/how-long-will-it-take-to-catch-up-to-a-stream',\n",
       " 'https://english.stackexchange.com/questions/535948/what-is-the-p-in-nope-called',\n",
       " 'https://worldbuilding.stackexchange.com/questions/177441/would-a-fully-automated-future-society-where-everything-is-owned-by-the-state-st',\n",
       " 'https://rpg.stackexchange.com/questions/169692/how-do-i-adjudicate-pcs-trying-to-use-stealth-in-a-crowd',\n",
       " 'https://security.stackexchange.com/questions/232345/ebay-web-site-tries-to-connect-to-wss-localhostxxxxx-is-this-legit-or-they',\n",
       " 'https://history.stackexchange.com/questions/59525/why-did-the-film-the-longest-day-have-the-cricket-training-scene-if-the-alli',\n",
       " 'https://electronics.stackexchange.com/questions/502687/how-critical-is-winding-a-solenoid-electromagnet-neatly',\n",
       " 'https://worldbuilding.stackexchange.com/questions/177460/how-to-find-out-if-someone-is-guilty-of-adultery',\n",
       " 'https://codegolf.stackexchange.com/questions/205396/bubbler-numbers',\n",
       " 'https://space.stackexchange.com/questions/44422/did-ed-white-on-his-gemini-4-spacewalk-have-to-release-pressure-from-his-suit',\n",
       " 'https://unix.stackexchange.com/questions/589822/is-it-worth-reinstalling-64-bit-ubuntu-instead-of-32-bit-on-old-hardware',\n",
       " 'https://economics.stackexchange.com/questions/36973/mortgage-loans-from-foreign-banks-at-lower-interest-rates',\n",
       " 'https://ell.stackexchange.com/questions/248802/how-do-you-pronounce-2%c3%974-board',\n",
       " 'https://worldbuilding.stackexchange.com/questions/177425/how-expensive-were-castles-and-how-were-the-costs-distributed',\n",
       " 'https://law.stackexchange.com/questions/51832/why-do-we-need-lawyers-in-the-judicial-system',\n",
       " 'https://worldbuilding.stackexchange.com/questions/177423/how-easily-can-a-medieval-granary-explode',\n",
       " 'https://unix.stackexchange.com/questions/589710/how-users-are-able-to-execute-a-file-without-permission',\n",
       " 'https://rpg.stackexchange.com/questions/169682/whats-worse-2-or-disadvantage',\n",
       " 'https://electronics.stackexchange.com/questions/502659/how-to-combine-two-resistors-with-a-voltage-source',\n",
       " 'https://movies.stackexchange.com/questions/109339/in-interstellar-why-did-nasa-hold-coop-away-from-his-daughter-when-he-first-was',\n",
       " 'https://workplace.stackexchange.com/questions/158640/can-an-employer-force-you-to-wear-a-face-mask',\n",
       " 'https://music.stackexchange.com/questions/100166/jazz-improvisation-whats-going-through-your-mind',\n",
       " 'https://politics.stackexchange.com/questions/53539/do-any-nations-have-in-place-formal-mechanisms-to-save-in-good-years-spend-in-b',\n",
       " 'https://codegolf.stackexchange.com/questions/205317/judge-a-book-by-its-cover',\n",
       " 'https://travel.stackexchange.com/questions/157426/leaving-the-uk-without-a-visa-to-be-in-uk-but-stuck-in-transit',\n",
       " 'https://chess.stackexchange.com/questions/29768/why-are-chess-com-opening-names-and-notations-seemingly-mismatched',\n",
       " 'https://puzzling.stackexchange.com/questions/98697/a-knight-chased-by-three-knights',\n",
       " 'https://physics.stackexchange.com/questions/555753/why-can-photons-be-used-as-qubits',\n",
       " 'https://parenting.stackexchange.com/questions/39970/how-can-i-deal-with-stealing-at-school-by-other-kids',\n",
       " 'https://english.stackexchange.com/questions/535999/i-have-a-one-son-whats-the-rule-explaining-that-mistake',\n",
       " 'https://academia.stackexchange.com/questions/149723/mistake-in-a-mathematical-proof',\n",
       " 'https://stackoverflow.com/questions/62093197/unexpected-non-equality-after-assignment',\n",
       " 'https://softwareengineering.stackexchange.com/questions/410724/why-f-rust-and-others-use-option-type-instead-of-nullable-types-like-c-8-or-t',\n",
       " 'https://materials.stackexchange.com/questions/1126/how-much-does-the-initial-geometry-effect-the-final-geometry-in-optimization-cal',\n",
       " 'https://chess.stackexchange.com/questions/29751/why-is-ne2-better-than-nf3',\n",
       " 'https://electronics.stackexchange.com/questions/502408/why-dont-i-need-a-resistance-when-testing-a-light-bulb-circuit-in-a-breadboard',\n",
       " 'https://mathoverflow.net/questions/361622/sos-polynomials-with-integer-coefficients',\n",
       " 'https://law.stackexchange.com/questions/51886/why-would-twitter-not-be-able-to-flag-annotate-censor-any-content-it-sees-fi',\n",
       " 'https://rpg.stackexchange.com/questions/169719/if-a-paladin-fails-the-saving-throw-against-a-demilichs-howl-and-falls-unconsci',\n",
       " 'https://codegolf.stackexchange.com/questions/205294/pairs-with-sum-divisible-by-5',\n",
       " 'https://travel.stackexchange.com/questions/157429/what-is-the-official-flight-id-syntax-for-a-iata-formatted-flight-code-with-spa',\n",
       " 'https://aviation.stackexchange.com/questions/78489/what-organisation-owns-intersection-names',\n",
       " 'https://space.stackexchange.com/questions/44415/what-is-done-between-a-scrub-and-the-next-launch-attempt']"
      ]
     },
     "execution_count": 33,
     "metadata": {},
     "output_type": "execute_result"
    }
   ],
   "source": [
    "post_getter()"
   ]
  },
  {
   "cell_type": "code",
   "execution_count": 7,
   "metadata": {},
   "outputs": [
    {
     "data": {
      "text/plain": [
       "<a class=\"question-link\" href=\"https://codegolf.stackexchange.com/questions/205422/zero-the-byte-eventually\" title=\"This question has been arbitrarily awarded 55.419 hotness points\">\n",
       "                    Zero the byte (eventually)\n",
       "                </a>"
      ]
     },
     "execution_count": 7,
     "metadata": {},
     "output_type": "execute_result"
    }
   ],
   "source": [
    "post_getter()[0]\n",
    "\n",
    "# url -> href\n",
    "# title -> text"
   ]
  },
  {
   "cell_type": "code",
   "execution_count": 9,
   "metadata": {},
   "outputs": [
    {
     "data": {
      "text/plain": [
       "'Zero the byte (eventually)'"
      ]
     },
     "execution_count": 9,
     "metadata": {},
     "output_type": "execute_result"
    }
   ],
   "source": [
    "post_getter()[0].text.strip(\" \\r\\n\")\n"
   ]
  },
  {
   "cell_type": "code",
   "execution_count": null,
   "metadata": {},
   "outputs": [],
   "source": []
  }
 ],
 "metadata": {
  "kernelspec": {
   "display_name": "Python 3",
   "language": "python",
   "name": "python3"
  },
  "language_info": {
   "codemirror_mode": {
    "name": "ipython",
    "version": 3
   },
   "file_extension": ".py",
   "mimetype": "text/x-python",
   "name": "python",
   "nbconvert_exporter": "python",
   "pygments_lexer": "ipython3",
   "version": "3.7.7"
  }
 },
 "nbformat": 4,
 "nbformat_minor": 4
}
